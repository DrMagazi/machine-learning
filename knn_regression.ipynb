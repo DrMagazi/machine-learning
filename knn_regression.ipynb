{
 "cells": [
  {
   "cell_type": "markdown",
   "id": "942c5f6c",
   "metadata": {},
   "source": [
    "# Exercise 2\n",
    "## Part 1 & 2"
   ]
  },
  {
   "cell_type": "code",
   "execution_count": 1,
   "id": "96e931a5",
   "metadata": {},
   "outputs": [
    {
     "ename": "OSError",
     "evalue": "datasets/polynomial200.csv not found.",
     "output_type": "error",
     "traceback": [
      "\u001B[0;31m---------------------------------------------------------------------------\u001B[0m",
      "\u001B[0;31mOSError\u001B[0m                                   Traceback (most recent call last)",
      "\u001B[0;32m/var/folders/jb/f65gfz8904q_31s85fgtjz5h0000gn/T/ipykernel_63025/782453810.py\u001B[0m in \u001B[0;36m<module>\u001B[0;34m\u001B[0m\n\u001B[1;32m      4\u001B[0m \u001B[0;34m\u001B[0m\u001B[0m\n\u001B[1;32m      5\u001B[0m \u001B[0;31m# Loading data to arrays\u001B[0m\u001B[0;34m\u001B[0m\u001B[0;34m\u001B[0m\u001B[0m\n\u001B[0;32m----> 6\u001B[0;31m \u001B[0mdata\u001B[0m \u001B[0;34m=\u001B[0m \u001B[0mnp\u001B[0m\u001B[0;34m.\u001B[0m\u001B[0mloadtxt\u001B[0m\u001B[0;34m(\u001B[0m\u001B[0;34m\"datasets/polynomial200.csv\"\u001B[0m\u001B[0;34m,\u001B[0m \u001B[0mdelimiter\u001B[0m\u001B[0;34m=\u001B[0m\u001B[0;34m\",\"\u001B[0m\u001B[0;34m)\u001B[0m\u001B[0;34m\u001B[0m\u001B[0;34m\u001B[0m\u001B[0m\n\u001B[0m\u001B[1;32m      7\u001B[0m \u001B[0mtrain_X\u001B[0m \u001B[0;34m=\u001B[0m \u001B[0mdata\u001B[0m\u001B[0;34m[\u001B[0m\u001B[0;34m:\u001B[0m\u001B[0;36m100\u001B[0m\u001B[0;34m,\u001B[0m\u001B[0;36m0\u001B[0m\u001B[0;34m]\u001B[0m \u001B[0;31m# Done like this to preserve a (118,1 shape)\u001B[0m\u001B[0;34m\u001B[0m\u001B[0;34m\u001B[0m\u001B[0m\n\u001B[1;32m      8\u001B[0m \u001B[0mtrain_y\u001B[0m \u001B[0;34m=\u001B[0m \u001B[0mdata\u001B[0m\u001B[0;34m[\u001B[0m\u001B[0;34m:\u001B[0m\u001B[0;36m100\u001B[0m\u001B[0;34m,\u001B[0m\u001B[0;36m1\u001B[0m\u001B[0;34m]\u001B[0m \u001B[0;31m# Done like this to preserve a (118,1 shape)\u001B[0m\u001B[0;34m\u001B[0m\u001B[0;34m\u001B[0m\u001B[0m\n",
      "\u001B[0;32m~/opt/anaconda3/lib/python3.9/site-packages/numpy/lib/npyio.py\u001B[0m in \u001B[0;36mloadtxt\u001B[0;34m(fname, dtype, comments, delimiter, converters, skiprows, usecols, unpack, ndmin, encoding, max_rows, like)\u001B[0m\n\u001B[1;32m   1063\u001B[0m             \u001B[0mfname\u001B[0m \u001B[0;34m=\u001B[0m \u001B[0mos_fspath\u001B[0m\u001B[0;34m(\u001B[0m\u001B[0mfname\u001B[0m\u001B[0;34m)\u001B[0m\u001B[0;34m\u001B[0m\u001B[0;34m\u001B[0m\u001B[0m\n\u001B[1;32m   1064\u001B[0m         \u001B[0;32mif\u001B[0m \u001B[0m_is_string_like\u001B[0m\u001B[0;34m(\u001B[0m\u001B[0mfname\u001B[0m\u001B[0;34m)\u001B[0m\u001B[0;34m:\u001B[0m\u001B[0;34m\u001B[0m\u001B[0;34m\u001B[0m\u001B[0m\n\u001B[0;32m-> 1065\u001B[0;31m             \u001B[0mfh\u001B[0m \u001B[0;34m=\u001B[0m \u001B[0mnp\u001B[0m\u001B[0;34m.\u001B[0m\u001B[0mlib\u001B[0m\u001B[0;34m.\u001B[0m\u001B[0m_datasource\u001B[0m\u001B[0;34m.\u001B[0m\u001B[0mopen\u001B[0m\u001B[0;34m(\u001B[0m\u001B[0mfname\u001B[0m\u001B[0;34m,\u001B[0m \u001B[0;34m'rt'\u001B[0m\u001B[0;34m,\u001B[0m \u001B[0mencoding\u001B[0m\u001B[0;34m=\u001B[0m\u001B[0mencoding\u001B[0m\u001B[0;34m)\u001B[0m\u001B[0;34m\u001B[0m\u001B[0;34m\u001B[0m\u001B[0m\n\u001B[0m\u001B[1;32m   1066\u001B[0m             \u001B[0mfencoding\u001B[0m \u001B[0;34m=\u001B[0m \u001B[0mgetattr\u001B[0m\u001B[0;34m(\u001B[0m\u001B[0mfh\u001B[0m\u001B[0;34m,\u001B[0m \u001B[0;34m'encoding'\u001B[0m\u001B[0;34m,\u001B[0m \u001B[0;34m'latin1'\u001B[0m\u001B[0;34m)\u001B[0m\u001B[0;34m\u001B[0m\u001B[0;34m\u001B[0m\u001B[0m\n\u001B[1;32m   1067\u001B[0m             \u001B[0mfh\u001B[0m \u001B[0;34m=\u001B[0m \u001B[0miter\u001B[0m\u001B[0;34m(\u001B[0m\u001B[0mfh\u001B[0m\u001B[0;34m)\u001B[0m\u001B[0;34m\u001B[0m\u001B[0;34m\u001B[0m\u001B[0m\n",
      "\u001B[0;32m~/opt/anaconda3/lib/python3.9/site-packages/numpy/lib/_datasource.py\u001B[0m in \u001B[0;36mopen\u001B[0;34m(path, mode, destpath, encoding, newline)\u001B[0m\n\u001B[1;32m    192\u001B[0m \u001B[0;34m\u001B[0m\u001B[0m\n\u001B[1;32m    193\u001B[0m     \u001B[0mds\u001B[0m \u001B[0;34m=\u001B[0m \u001B[0mDataSource\u001B[0m\u001B[0;34m(\u001B[0m\u001B[0mdestpath\u001B[0m\u001B[0;34m)\u001B[0m\u001B[0;34m\u001B[0m\u001B[0;34m\u001B[0m\u001B[0m\n\u001B[0;32m--> 194\u001B[0;31m     \u001B[0;32mreturn\u001B[0m \u001B[0mds\u001B[0m\u001B[0;34m.\u001B[0m\u001B[0mopen\u001B[0m\u001B[0;34m(\u001B[0m\u001B[0mpath\u001B[0m\u001B[0;34m,\u001B[0m \u001B[0mmode\u001B[0m\u001B[0;34m,\u001B[0m \u001B[0mencoding\u001B[0m\u001B[0;34m=\u001B[0m\u001B[0mencoding\u001B[0m\u001B[0;34m,\u001B[0m \u001B[0mnewline\u001B[0m\u001B[0;34m=\u001B[0m\u001B[0mnewline\u001B[0m\u001B[0;34m)\u001B[0m\u001B[0;34m\u001B[0m\u001B[0;34m\u001B[0m\u001B[0m\n\u001B[0m\u001B[1;32m    195\u001B[0m \u001B[0;34m\u001B[0m\u001B[0m\n\u001B[1;32m    196\u001B[0m \u001B[0;34m\u001B[0m\u001B[0m\n",
      "\u001B[0;32m~/opt/anaconda3/lib/python3.9/site-packages/numpy/lib/_datasource.py\u001B[0m in \u001B[0;36mopen\u001B[0;34m(self, path, mode, encoding, newline)\u001B[0m\n\u001B[1;32m    529\u001B[0m                                       encoding=encoding, newline=newline)\n\u001B[1;32m    530\u001B[0m         \u001B[0;32melse\u001B[0m\u001B[0;34m:\u001B[0m\u001B[0;34m\u001B[0m\u001B[0;34m\u001B[0m\u001B[0m\n\u001B[0;32m--> 531\u001B[0;31m             \u001B[0;32mraise\u001B[0m \u001B[0mIOError\u001B[0m\u001B[0;34m(\u001B[0m\u001B[0;34m\"%s not found.\"\u001B[0m \u001B[0;34m%\u001B[0m \u001B[0mpath\u001B[0m\u001B[0;34m)\u001B[0m\u001B[0;34m\u001B[0m\u001B[0;34m\u001B[0m\u001B[0m\n\u001B[0m\u001B[1;32m    532\u001B[0m \u001B[0;34m\u001B[0m\u001B[0m\n\u001B[1;32m    533\u001B[0m \u001B[0;34m\u001B[0m\u001B[0m\n",
      "\u001B[0;31mOSError\u001B[0m: datasets/polynomial200.csv not found."
     ]
    }
   ],
   "source": [
    "import numpy as np\n",
    "from itertools import product\n",
    "from matplotlib import pyplot as plt\n",
    "\n",
    "# Loading data to arrays\n",
    "data = np.loadtxt(\"datasets/polynomial200.csv\", delimiter=\",\")\n",
    "train_X = data[:100,0] # Done like this to preserve a (118,1 shape)\n",
    "train_y = data[:100,1] # Done like this to preserve a (118,1 shape)\n",
    "test_X = data[100:,0]\n",
    "test_y = data[100:,1]\n",
    "\n",
    "# Make subplots\n",
    "fig, axarr = plt.subplots(1, 2, figsize=(10,10))\n",
    "for graph_data, idx, title in zip(\n",
    "    [[train_X, train_y], [test_X, test_y]],\n",
    "    range(2),\n",
    "    [\"Training data\", \"Test data\"]\n",
    "):\n",
    "    axarr[idx].plot(graph_data[0], graph_data[1], \".\")\n",
    "    axarr[idx].set_title(title)\n",
    "plt.show()\n"
   ]
  },
  {
   "cell_type": "markdown",
   "id": "8bfc033f",
   "metadata": {},
   "source": [
    "## Part 3"
   ]
  },
  {
   "cell_type": "code",
   "execution_count": null,
   "id": "44cb0f58",
   "metadata": {},
   "outputs": [],
   "source": [
    "# kNN test implementation - (Similar to the previous function in Ex.1)\n",
    "# Takes k, test and model as parameters.\n",
    "# Returns k rows of nearest y \n",
    "def test_knn_1d(k: int, test, X, y): # Takes k, test point and model\n",
    "    if k % 2 == 0:\n",
    "        print(\"k must be odd.\")\n",
    "    \n",
    "    # Get distance of each point in model from test point.\n",
    "    test_dist = np.sqrt((test - X)**2)\n",
    "\n",
    "    # Combine distance array with response of each point.\n",
    "    dist_with_validity = np.zeros((test_dist.size, 2))\n",
    "    dist_with_validity[:, 0] = test_dist\n",
    "    dist_with_validity[:, 1] = y\n",
    "    \n",
    "    # Sort by distance and return k rows of y\n",
    "    dist_with_validity = dist_with_validity[dist_with_validity[:, 0].argsort()]  # Sort array by distance\n",
    "    return dist_with_validity[:k,1]\n",
    "\n",
    "### Plot the tests ###\n",
    "fig, axarr = plt.subplots(2, 3, figsize=(15,15))\n",
    "test_X = np.arange(0, 26, 0.1)\n",
    "for k, plot_idx in zip(range(1,12,2), product([0, 1], [0, 1, 2])):\n",
    "    # Prepare regression y points\n",
    "    test_y = np.copy(test_X)\n",
    "    for i in range(test_y.size):\n",
    "        test_y[i] = np.mean(test_knn_1d(k, test_y[i], train_X, train_y))\n",
    "    \n",
    "    # TODO: Compute training MSE for each k and set it as graph title.\n",
    "    reg_y = np.copy(train_X)\n",
    "    for i in range(reg_y.size):\n",
    "        reg_y[i] = np.mean(test_knn_1d(k, reg_y[i], train_X, train_y))\n",
    "    mse = np.mean((reg_y-train_y)**2)\n",
    "    \n",
    "    # Plot the subpot    \n",
    "    axarr[plot_idx[0], plot_idx[1]].plot(train_X, train_y, \"r.\")\n",
    "    axarr[plot_idx[0], plot_idx[1]].plot(test_X, test_y, \"b-\")\n",
    "    axarr[plot_idx[0], plot_idx[1]].set_title(f\"k = {k}, training MSE = {mse}\")\n",
    "    axarr[plot_idx[0], plot_idx[1]].legend([\"Training data\", \"Regression\"])\n",
    "    \n",
    "plt.show() "
   ]
  },
  {
   "cell_type": "markdown",
   "id": "8ec9c5a2",
   "metadata": {},
   "source": [
    "## Part 4"
   ]
  },
  {
   "cell_type": "code",
   "execution_count": null,
   "id": "2d9583a8",
   "metadata": {},
   "outputs": [],
   "source": [
    "for k in range(1,12,2):\n",
    "    # TODO: Compute training MSE for each k and set it as graph title.\n",
    "    reg_y = np.copy(test_X)\n",
    "    for i in range(reg_y.size):\n",
    "        reg_y[i] = np.mean(test_knn_1d(k, reg_y[i], train_X, train_y))\n",
    "    mse = np.mean((reg_y-test_y)**2)\n",
    "    print(f\"k = {k}, MSE = {mse}\")"
   ]
  },
  {
   "cell_type": "markdown",
   "id": "914871db",
   "metadata": {},
   "source": [
    "## Part 5\n",
    "It's difficult to determine exactly which k gives the best regression. However, a range of k can be chosen as suitable. k = 1 is out of the question, it is overfitting and has a very high test MSE. 3 is much better, but the best choices probably lie in the 7-11 range, since they have significantly lower test MSEs while not being that much worse with their training MSE relative to 3 and 5."
   ]
  }
 ],
 "metadata": {
  "kernelspec": {
   "display_name": "Python 3 (ipykernel)",
   "language": "python",
   "name": "python3"
  },
  "language_info": {
   "codemirror_mode": {
    "name": "ipython",
    "version": 3
   },
   "file_extension": ".py",
   "mimetype": "text/x-python",
   "name": "python",
   "nbconvert_exporter": "python",
   "pygments_lexer": "ipython3",
   "version": "3.9.7"
  }
 },
 "nbformat": 4,
 "nbformat_minor": 5
}